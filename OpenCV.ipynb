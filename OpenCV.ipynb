{
  "nbformat": 4,
  "nbformat_minor": 0,
  "metadata": {
    "colab": {
      "provenance": [],
      "authorship_tag": "ABX9TyNGWzQc5EymtDrdWZ0PnJeU",
      "include_colab_link": true
    },
    "kernelspec": {
      "name": "python3",
      "display_name": "Python 3"
    },
    "language_info": {
      "name": "python"
    }
  },
  "cells": [
    {
      "cell_type": "markdown",
      "metadata": {
        "id": "view-in-github",
        "colab_type": "text"
      },
      "source": [
        "<a href=\"https://colab.research.google.com/github/Aditya22b2518/learner_space/blob/week3/OpenCV.ipynb\" target=\"_parent\"><img src=\"https://colab.research.google.com/assets/colab-badge.svg\" alt=\"Open In Colab\"/></a>"
      ]
    },
    {
      "cell_type": "code",
      "source": [
        "from google.colab import drive\n",
        "drive.mount('/content/drive')"
      ],
      "metadata": {
        "id": "toJ6YDiuMCfd"
      },
      "execution_count": null,
      "outputs": []
    },
    {
      "cell_type": "code",
      "execution_count": null,
      "metadata": {
        "id": "bCjAOCZyL9rp"
      },
      "outputs": [],
      "source": [
        "import cv2\n",
        "import numpy as np\n",
        "import matplotlib.pyplot as plt\n",
        "\n",
        "# Load images\n",
        "cartoon = cv2.imread(\"/content/drive/MyDrive/images/cartoon.bmp\")\n",
        "cartoon_y = cv2.imread(\"/content/drive/MyDrive/images/cartoon_y.jpg\")\n",
        "girl = cv2.imread(\"/content/drive/MyDrive/images/girl.png\", cv2.IMREAD_GRAYSCALE)\n",
        "girl_y = cv2.imread(\"/content/drive/MyDrive/images/girl_y.jpg\", cv2.IMREAD_GRAYSCALE)\n",
        "fingerprint = cv2.imread(\"/content/drive/MyDrive/images/fingerprint.jpg\")\n",
        "fingerprint_y = cv2.imread(\"/content/drive/MyDrive/images/fingerprint_y.jpg\")\n",
        "\n",
        "# Convert cartoon image to HSV and create mask\n",
        "cartoon_hsv = cv2.cvtColor(cartoon, cv2.COLOR_BGR2HSV)\n",
        "lower_green = np.array([40, 50, 50])\n",
        "upper_green = np.array([90, 255, 255])\n",
        "mask_green = cv2.inRange(cartoon_hsv, lower_green, upper_green)\n",
        "\n",
        "# Morphological transformations to clean the mask\n",
        "kernel = np.ones((5, 5), np.uint8)\n",
        "mask = cv2.morphologyEx(mask_green, cv2.MORPH_CLOSE, kernel)\n",
        "mask = cv2.morphologyEx(mask, cv2.MORPH_OPEN, kernel)\n",
        "\n",
        "# Apply mask to cartoon image\n",
        "cartoon_y_mentee = cv2.bitwise_and(cartoon, cartoon, mask=mask)\n",
        "cartoon_y_mentee_rgb = cv2.cvtColor(cartoon_y_mentee, cv2.COLOR_BGR2RGB)\n",
        "\n",
        "# Edge detection for girl image with adjusted thresholds\n",
        "girl_blur = cv2.GaussianBlur(girl, (5, 5), 0)\n",
        "girl_y_mentee = cv2.Canny(girl_blur, 184, 190)\n",
        "\n",
        "# Binary thresholding for fingerprint image\n",
        "fingerprint_gray = cv2.cvtColor(fingerprint, cv2.COLOR_BGR2GRAY)\n",
        "_, fingerprint_y_mentee = cv2.threshold(fingerprint_gray, 128, 255, cv2.THRESH_BINARY)\n",
        "\n",
        "# Convert fingerprint_y to RGB for display consistency\n",
        "fingerprint_y_rgb = cv2.cvtColor(fingerprint_y, cv2.COLOR_BGR2RGB)\n",
        "\n",
        "# Plotting the results\n",
        "fig, axs1 = plt.subplots(3, 2, figsize=(8, 12))\n",
        "\n",
        "# Cartoon Image\n",
        "axs1[0, 0].imshow(cartoon_y_mentee_rgb)\n",
        "axs1[0, 1].imshow(cv2.cvtColor(cartoon_y, cv2.COLOR_BGR2RGB))\n",
        "axs1[0, 0].axis(\"off\")\n",
        "axs1[0, 1].axis(\"off\")\n",
        "axs1[0, 0].set_title(\"Masked_Mentee (RGB)\")\n",
        "axs1[0, 1].set_title(\"Masked (BGR)\")\n",
        "\n",
        "# Girl Image\n",
        "axs1[1, 0].imshow(girl_y_mentee, cmap=\"gray\")\n",
        "axs1[1, 1].imshow(girl_y, cmap=\"gray\")\n",
        "axs1[1, 0].axis(\"off\")\n",
        "axs1[1, 1].axis(\"off\")\n",
        "axs1[1, 0].set_title(\"Edges_Mentee\")\n",
        "axs1[1, 1].set_title(\"Edges\")\n",
        "\n",
        "# Fingerprint Image\n",
        "axs1[2, 0].imshow(fingerprint_y_mentee, cmap=\"gray\")\n",
        "axs1[2, 1].imshow(fingerprint_y_rgb)\n",
        "axs1[2, 0].axis(\"off\")\n",
        "axs1[2, 1].axis(\"off\")\n",
        "axs1[2, 0].set_title(\"Binary_Mentee\")\n",
        "axs1[2, 1].set_title(\"Binary\")\n",
        "\n",
        "plt.tight_layout()\n",
        "plt.show()\n"
      ]
    }
  ]
}