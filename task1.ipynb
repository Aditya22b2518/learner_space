{
  "nbformat": 4,
  "nbformat_minor": 0,
  "metadata": {
    "colab": {
      "provenance": [],
      "authorship_tag": "ABX9TyPWPTwx7RmT8zbDaYsqn824",
      "include_colab_link": true
    },
    "kernelspec": {
      "name": "python3",
      "display_name": "Python 3"
    },
    "language_info": {
      "name": "python"
    }
  },
  "cells": [
    {
      "cell_type": "markdown",
      "metadata": {
        "id": "view-in-github",
        "colab_type": "text"
      },
      "source": [
        "<a href=\"https://colab.research.google.com/github/Aditya22b2518/learner_space/blob/week1/task1.ipynb\" target=\"_parent\"><img src=\"https://colab.research.google.com/assets/colab-badge.svg\" alt=\"Open In Colab\"/></a>"
      ]
    },
    {
      "cell_type": "code",
      "execution_count": null,
      "metadata": {
        "id": "OZk1EwhAMqzM"
      },
      "outputs": [],
      "source": [
        "import numpy as np\n",
        "import pandas as pd\n",
        "import matplotlib.pyplot as plt\n",
        "import random\n",
        "\n",
        "array_1 = np.array([[30, 46, 78]])\n",
        "array_2 = np.zeros(50)\n",
        "array_3 = np.array([[98, 3], [23, 18], [17, 96]])\n",
        "array_4 = np.dot(array_1, array_3)\n",
        "array_2[4] = 10\n",
        "if np.shape(array_4) == (1, 2) and array_2[4] != 0:\n",
        "    print(\"Passed\")\n",
        "else:\n",
        "    print(\"Fail\")\n",
        "\n",
        "I = np.eye(3)\n",
        "result = np.dot(I, 9*I + 1)\n",
        "print(\"Dot product of I and 9I+1:\")\n",
        "print(result)\n",
        "\n",
        "data = {\n",
        "    'Name': ['Ramesh', 'Mahesh', 'Suresh'],\n",
        "    'Age': [25, 30, 35],\n",
        "    'City': ['Bangalore', 'Mumbai', 'Delhi']\n",
        "}\n",
        "df = pd.DataFrame(data)\n",
        "print(\"\\nFirst 2 rows of the DataFrame:\")\n",
        "print(df.head(2))\n",
        "print(\"\\nAge column:\")\n",
        "print(df['Age'])\n",
        "print(\"\\nFiltered rows where age is greater than 26:\")\n",
        "print(df[df['Age'] > 26])\n",
        "df['Country'] = 'India'\n",
        "print(\"\\nDataFrame with 'Country' column added:\")\n",
        "print(df)\n",
        "\n",
        "data1 = {\n",
        "    'Name': ['Ramesh', 'Mahesh', 'Suresh'],\n",
        "    'Age': [25, None, 35],\n",
        "    'City': ['Bangalore', 'Mumbai', 'Delhi']\n",
        "}\n",
        "df2 = pd.DataFrame(data1)\n",
        "df2['Age'].fillna(df2['Age'].mean(), inplace=True)\n",
        "print(\"\\nDataFrame with missing values filled:\")\n",
        "print(df2)\n",
        "\n",
        "xpoints = np.array([1, 2, 3, 4])\n",
        "ypoints = np.array([2, 4, 6, 8])\n",
        "plt.figure()\n",
        "plt.plot(xpoints, ypoints, marker='o', linestyle='None')\n",
        "plt.figure()\n",
        "plt.plot(xpoints, ypoints, marker='*')\n",
        "plt.figure()\n",
        "plt.plot(xpoints, ypoints, 'ro--')\n",
        "plt.xlabel('X-axis')\n",
        "plt.ylabel('Y-axis')\n",
        "plt.title('Plot with labels and title')\n",
        "plt.figure()\n",
        "plt.scatter(xpoints, ypoints)\n",
        "colors = ['b', 'g', 'r', 'y']\n",
        "for i in range(len(xpoints)):\n",
        "    plt.scatter(xpoints[i], ypoints[i], color=colors[i])\n",
        "plt.show()\n",
        "\n",
        "random.seed(20)\n",
        "array_1 = np.array([1, 24, 31, 45, 73, 81, 94, 25])\n",
        "random_selection = random.sample(list(array_1), 4)\n",
        "sum_of_selected = sum(random_selection)\n",
        "print(\"\\nSum of 4 random numbers selected from array_1:\", sum_of_selected)"
      ]
    }
  ]
}